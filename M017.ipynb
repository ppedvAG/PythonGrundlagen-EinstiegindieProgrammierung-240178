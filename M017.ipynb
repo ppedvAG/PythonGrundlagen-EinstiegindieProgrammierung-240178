{
 "cells": [
  {
   "cell_type": "markdown",
   "id": "6b66682b-e866-42eb-a8ca-0836c92d89d4",
   "metadata": {},
   "source": [
    "## Was ist Machine Learning?"
   ]
  },
  {
   "cell_type": "markdown",
   "id": "8dd4049e-40b8-44f2-930f-e2d5818b2c3a",
   "metadata": {},
   "source": [
    "Das Finden eines Programms zu einem gegebenen Datenset, um aus diesem Datenset neue Daten zu erzeugen/Daten zu klassifiziert/Regression zu betreiben\n",
    "\n",
    "z.B. Wettervorhersage\n",
    "\n",
    "Datum, Tageszeit, Wolken%, Niederschlag% -> Temperatur\n",
    "\n",
    "Wir wollen jetzt ein ML-Model schreiben, welches anhand dieser Daten Temperaturen von neuen Datensätzen vorhersagen kann (Zukunft)\n",
    "\n",
    "Model: Das Ergebnis des Machine Learning Prozesses, funktioniert wie ein ganz normales Programm\n",
    "\n",
    "-> Nimmt Inputdaten und gibt Outputdaten zurück\n",
    "\n",
    "|Datum|Stunde|WolkenPct|NiederschlagPct|Temp|\n",
    "|-----|------|---------|---------------|----|\n",
    "|01.01.|12|30|0|6|\n",
    "|01.06.|18|50|30|16|\n",
    "|01.09.|06|0|0|18|\n",
    "|01.12.|20|100|0|8|\n",
    "\n",
    "Neuer Datensatz:\n",
    "\n",
    "15.05., 15, 40, 0 -> 24, 20, 19 - Realität: 23°\n",
    "\n",
    "Algorithmus bekommt historische Daten der letzten X Jahre (z.B. 30) und lernt Zusammenhänge in dem Datenset\n",
    "\n",
    "-> Kann im Anschluss neue Daten klassifizieren"
   ]
  },
  {
   "cell_type": "code",
   "execution_count": null,
   "id": "d93000e0-6553-43cc-b7e0-42256ece1257",
   "metadata": {},
   "outputs": [],
   "source": []
  }
 ],
 "metadata": {
  "kernelspec": {
   "display_name": "Python 3 (ipykernel)",
   "language": "python",
   "name": "python3"
  },
  "language_info": {
   "codemirror_mode": {
    "name": "ipython",
    "version": 3
   },
   "file_extension": ".py",
   "mimetype": "text/x-python",
   "name": "python",
   "nbconvert_exporter": "python",
   "pygments_lexer": "ipython3",
   "version": "3.12.3"
  }
 },
 "nbformat": 4,
 "nbformat_minor": 5
}
